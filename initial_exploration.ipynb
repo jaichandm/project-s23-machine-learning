{
 "cells": [
  {
   "cell_type": "code",
   "execution_count": 31,
   "id": "d0730a92",
   "metadata": {},
   "outputs": [
    {
     "name": "stdout",
     "output_type": "stream",
     "text": [
      "Initial Dataset:\trows= 1303\tcolumns= 12\n",
      "\n",
      "   Unnamed: 0 Company   TypeName  Inches                    ScreenResolution  \\\n",
      "0           0   Apple  Ultrabook    13.3  IPS Panel Retina Display 2560x1600   \n",
      "1           1   Apple  Ultrabook    13.3                            1440x900   \n",
      "2           2      HP   Notebook    15.6                   Full HD 1920x1080   \n",
      "3           3   Apple  Ultrabook    15.4  IPS Panel Retina Display 2880x1800   \n",
      "4           4   Apple  Ultrabook    13.3  IPS Panel Retina Display 2560x1600   \n",
      "\n",
      "                          Cpu   Ram               Memory  \\\n",
      "0        Intel Core i5 2.3GHz   8GB            128GB SSD   \n",
      "1        Intel Core i5 1.8GHz   8GB  128GB Flash Storage   \n",
      "2  Intel Core i5 7200U 2.5GHz   8GB            256GB SSD   \n",
      "3        Intel Core i7 2.7GHz  16GB            512GB SSD   \n",
      "4        Intel Core i5 3.1GHz   8GB            256GB SSD   \n",
      "\n",
      "                            Gpu  OpSys  Weight        Price  \n",
      "0  Intel Iris Plus Graphics 640  macOS  1.37kg   71378.6832  \n",
      "1        Intel HD Graphics 6000  macOS  1.34kg   47895.5232  \n",
      "2         Intel HD Graphics 620  No OS  1.86kg   30636.0000  \n",
      "3            AMD Radeon Pro 455  macOS  1.83kg  135195.3360  \n",
      "4  Intel Iris Plus Graphics 650  macOS  1.37kg   96095.8080  \n",
      "\n",
      "missing values:\n",
      "Unnamed: 0          0\n",
      "Company             0\n",
      "TypeName            0\n",
      "Inches              0\n",
      "ScreenResolution    0\n",
      "Cpu                 0\n",
      "Ram                 0\n",
      "Memory              0\n",
      "Gpu                 0\n",
      "OpSys               0\n",
      "Weight              0\n",
      "Price               0\n",
      "dtype: int64\n",
      "\n",
      "Number of Duplicate entries:  0\n"
     ]
    }
   ],
   "source": [
    "import pandas as pd\n",
    "\n",
    "# read the dataset\n",
    "url = 'https://raw.githubusercontent.com/jaichandm/personal/main/laptop_data.csv'\n",
    "laptop_df = pd.read_csv(url)\n",
    "\n",
    "# get dataset size\n",
    "\n",
    "print(f'Initial Dataset:\\trows= {laptop_df.shape[0]}\\tcolumns= {laptop_df.shape[1]}\\n')\n",
    "# display the first 5 rows of the dataset\n",
    "# display the first 5 rows of the dataset\n",
    "print(f'{laptop_df.head()}\\n')\n",
    "\n",
    "# check for missing values\n",
    "print(f'missing values:\\n{laptop_df.isnull().sum()}\\n')\n",
    "\n",
    "print('Number of Duplicate entries: ',laptop_df.duplicated().sum())\n"
   ]
  },
  {
   "cell_type": "markdown",
   "id": "be1da2fc",
   "metadata": {},
   "source": [
    "### Did you discover interesting relations?\n",
    "\n",
    "We have pulled in the \"Laptop Prices\" dataset from an online source using pandas library. After loading the dataset, we checked the first 5 rows to get an idea of what the data looks like. We also checked for any missing and duplicate values in the dataset and found none. We donot require 'Unnamed: 0' column so we can remove it\n",
    "\n",
    "After exploring the dataset, we will discover that laptops with higher-end specifications such as faster processors, more RAM, larger storage capacities, and dedicated graphics cards tend to have higher prices.\n"
   ]
  },
  {
   "cell_type": "markdown",
   "id": "f28c5a23",
   "metadata": {},
   "source": [
    "### What feature/s would you like to be able to predict?\n",
    "\n",
    "We would like to be able to predict the price of a laptop based on its specifications and features such as CPU, RAM, screen size, storage, brand, etc."
   ]
  },
  {
   "cell_type": "code",
   "execution_count": 32,
   "id": "7a424538",
   "metadata": {},
   "outputs": [
    {
     "name": "stdout",
     "output_type": "stream",
     "text": [
      "After cleaning Dataset:\trows= 1303\tcolumns= 11\n",
      "\n"
     ]
    }
   ],
   "source": [
    "# drop any rows with missing values\n",
    "laptop_df = laptop_df.dropna()\n",
    "\n",
    "# drop any duplicate rows\n",
    "laptop_df = laptop_df.drop_duplicates()\n",
    "\n",
    "# drop 'Unnamed: 0' column\n",
    "laptop_df.drop(columns=['Unnamed: 0'],inplace=True)\n",
    "\n",
    "print(f'After cleaning Dataset:\\trows= {laptop_df.shape[0]}\\tcolumns= {laptop_df.shape[1]}\\n')\n"
   ]
  }
 ],
 "metadata": {
  "kernelspec": {
   "display_name": "Python 3 (ipykernel)",
   "language": "python",
   "name": "python3"
  },
  "language_info": {
   "codemirror_mode": {
    "name": "ipython",
    "version": 3
   },
   "file_extension": ".py",
   "mimetype": "text/x-python",
   "name": "python",
   "nbconvert_exporter": "python",
   "pygments_lexer": "ipython3",
   "version": "3.9.13"
  }
 },
 "nbformat": 4,
 "nbformat_minor": 5
}
