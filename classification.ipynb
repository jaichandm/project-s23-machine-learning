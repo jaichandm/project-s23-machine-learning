{
 "cells": [
  {
   "cell_type": "code",
   "execution_count": null,
   "id": "902e2687",
   "metadata": {},
   "outputs": [],
   "source": [
    "# Import libraries\n",
    "import pandas as pd\n",
    "from sklearn.model_selection import train_test_split\n",
    "\n",
    "data = pd.read_csv(\"https://raw.githubusercontent.com/jaichandm/personal/main/laptop_data_cleaned.csv\")\n",
    "\n",
    "X = data[['Brand', 'Processor', 'RAM', 'Storage', 'ScreenSize', 'GPU', 'OS']]\n",
    "Y = pd.cut(data['Price_rupees'], bins=[0, 500, 1000, 1500, 2000, 2500, 3000, 3500, 4000, 4500, 5000, 5500, 6000, 6500, 7000, 7500, 8000, 8500, 9000, 9500, 10000, float(\"inf\")], labels=[1,2,3,4,5,6,7,8,9,10,11,12,13,14,15,16,17,18,19,20,21])\n",
    "\n",
    "X_train, X_test, Y_train, Y_test = train_test_split(X, Y, test_size=0.2, random_state=42)\n"
   ]
  },
  {
   "cell_type": "markdown",
   "id": "07262c73",
   "metadata": {},
   "source": [
    "\n",
    "The most important details are the key specifications that consumers consider when making purchasing decisions for laptops, such as brand reputation, RAM, CPU, and storage capacity.\n",
    "\n",
    "I chose to keep the price as a continuous variable for this project, as it provides more precise information than creating buckets or categories."
   ]
  }
 ],
 "metadata": {
  "kernelspec": {
   "display_name": "Python 3 (ipykernel)",
   "language": "python",
   "name": "python3"
  },
  "language_info": {
   "codemirror_mode": {
    "name": "ipython",
    "version": 3
   },
   "file_extension": ".py",
   "mimetype": "text/x-python",
   "name": "python",
   "nbconvert_exporter": "python",
   "pygments_lexer": "ipython3",
   "version": "3.9.13"
  }
 },
 "nbformat": 4,
 "nbformat_minor": 5
}
