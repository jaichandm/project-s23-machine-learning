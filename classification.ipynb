{
 "cells": [
  {
   "cell_type": "code",
   "execution_count": 23,
   "id": "417f4f49",
   "metadata": {},
   "outputs": [],
   "source": [
    "# Import libraries\n",
    "import pandas as pd\n",
    "from sklearn.model_selection import train_test_split\n",
    "from sklearn.preprocessing import OneHotEncoder\n",
    "\n",
    "laptop_df = pd.read_csv(\"https://raw.githubusercontent.com/jaichandm/personal/main/laptop_data_cleaned.csv\")\n",
    "\n",
    "laptop_df['Ram'] = laptop_df['Ram'].str.extract('(\\d+)').astype(float)\n",
    "\n",
    "laptop_df['Memory'] = laptop_df['Memory'].str.extract('(\\d+)').astype(float)\n",
    "\n",
    "laptop_df['Weight'] = laptop_df['Weight'].str.replace('kg', '').astype(float)\n",
    "\n",
    "X = laptop_df[['Company', 'Cpu', 'Ram', 'Memory', 'Inches', 'Gpu', 'OpSys']]\n",
    "Y = pd.cut(laptop_df['Price'], bins=[0, 500, 1000, 1500, 2000, 2500, 3000, 3500, 4000, 4500, 5000, 5500, 6000, 6500, 7000, 7500, 8000, 8500, 9000, 9500, 10000, float(\"inf\")], labels=[1,2,3,4,5,6,7,8,9,10,11,12,13,14,15,16,17,18,19,20,21])\n",
    "\n",
    "one_hot_en = OneHotEncoder()\n",
    "X_one_hot_en = one_hot_en.fit_transform(X)\n",
    "\n",
    "X_train, X_test, Y_train, Y_test = train_test_split(X, Y, test_size=0.2, random_state=42)\n"
   ]
  },
  {
   "cell_type": "markdown",
   "id": "63da3f56",
   "metadata": {},
   "source": [
    "\n",
    "The most important details are the key specifications that consumers consider when making purchasing decisions for laptops, such as brand reputation, RAM, CPU, and storage capacity.\n",
    "\n",
    "I chose to keep the price as a continuous variable for this project, as it provides more precise information than creating buckets or categories."
   ]
  },
  {
   "cell_type": "code",
   "execution_count": 24,
   "id": "34933b8b",
   "metadata": {
    "scrolled": true
   },
   "outputs": [
    {
     "name": "stdout",
     "output_type": "stream",
     "text": [
      "Mean Squared Error: 0.0\n",
      "R-squared: 1.0\n"
     ]
    }
   ],
   "source": [
    "# Import libraries\n",
    "import pandas as pd\n",
    "from sklearn.model_selection import train_test_split\n",
    "from sklearn.preprocessing import OneHotEncoder\n",
    "\n",
    "laptop_df = pd.read_csv(\"https://raw.githubusercontent.com/jaichandm/personal/main/laptop_data_cleaned.csv\")\n",
    "\n",
    "laptop_df['Ram'] = laptop_df['Ram'].str.extract('(\\d+)').astype(float)\n",
    "\n",
    "laptop_df['Memory'] = laptop_df['Memory'].str.extract('(\\d+)').astype(float)\n",
    "\n",
    "laptop_df['Weight'] = laptop_df['Weight'].str.replace('kg', '').astype(float)\n",
    "\n",
    "X = laptop_df[['Weight', 'Ram', 'Memory', 'Inches']]\n",
    "Y = pd.cut(laptop_df['Price'], bins=[0, 500, 1000, 1500, 2000, 2500, 3000, 3500, 4000, 4500, 5000, 5500, 6000, 6500, 7000, 7500, 8000, 8500, 9000, 9500, 10000, float(\"inf\")], labels=[1,2,3,4,5,6,7,8,9,10,11,12,13,14,15,16,17,18,19,20,21])\n",
    "\n",
    "one_hot_en = OneHotEncoder()\n",
    "X_one_hot_en = one_hot_en.fit_transform(X)\n",
    "\n",
    "X_train, X_test, Y_train, Y_test = train_test_split(X, Y, test_size=0.2, random_state=42)\n",
    "\n",
    "model = DecisionTreeRegressor(random_state=42)\n",
    "model.fit(X_train, Y_train)\n",
    "\n",
    "Y_pred = model.predict(X_test)\n",
    "\n",
    "mse = mean_squared_error(Y_test, Y_pred)\n",
    "r2 = r2_score(Y_test, Y_pred)\n",
    "\n",
    "print(\"Mean Squared Error:\", mse)\n",
    "print(\"R-squared:\", r2)\n"
   ]
  },
  {
   "cell_type": "markdown",
   "id": "eabacb0c",
   "metadata": {},
   "source": [
    "The mean squared error is a measure of the difference between predicted and actual values, while the R-squared metric measures the proportion of variance in the dependent variable that is explained by the independent variables. These metrics suggest that the SVM model is overfitting the data, so it may be necessary to tune the model's hyperparameters or use cross-validation techniques to prevent overfitting and ensure generalizability."
   ]
  },
  {
   "cell_type": "code",
   "execution_count": 25,
   "id": "977f4686",
   "metadata": {},
   "outputs": [
    {
     "name": "stdout",
     "output_type": "stream",
     "text": [
      "Mean Squared Error: 0.0\n",
      "R-squared: 1.0\n"
     ]
    }
   ],
   "source": [
    "from sklearn.preprocessing import LabelEncoder\n",
    "from sklearn.model_selection import train_test_split\n",
    "from sklearn.svm import SVC\n",
    "\n",
    "label_encoder = LabelEncoder()\n",
    "Y_encoded = label_encoder.fit_transform(Y)\n",
    "\n",
    "X_train, X_test, Y_train, Y_test = train_test_split(X_one_hot_en, Y_encoded, test_size=0.2, random_state=42)\n",
    "\n",
    "\n",
    "svm_m = SVC(kernel='linear', C=1, gamma='scale')\n",
    "svm_m.fit(X_train, Y_train)\n",
    "\n",
    "Y_pred_svm = svm_m.predict(X_test)\n",
    "\n",
    "mse_svm = mean_squared_error(Y_test, Y_pred_svm)\n",
    "r2_svm = r2_score(Y_test, Y_pred_svm)\n",
    "\n",
    "print(\"Mean Squared Error:\", mse_svm)\n",
    "print(\"R-squared:\", r2_svm)\n"
   ]
  },
  {
   "cell_type": "code",
   "execution_count": 26,
   "id": "1f4fbfb5",
   "metadata": {},
   "outputs": [
    {
     "name": "stdout",
     "output_type": "stream",
     "text": [
      "Accuracy: 1.0\n",
      "Precision: 1.0\n",
      "F1-score: 1.0\n"
     ]
    }
   ],
   "source": [
    "from sklearn.metrics import accuracy_score, precision_score, f1_score\n",
    "\n",
    "accuracy = accuracy_score(Y_test, Y_pred_svm)\n",
    "precision = precision_score(Y_test, Y_pred_svm, average='weighted')\n",
    "f1 = f1_score(Y_test, Y_pred_svm, average='weighted')\n",
    "\n",
    "print(\"Accuracy:\", accuracy)\n",
    "print(\"Precision:\", precision)\n",
    "print(\"F1-score:\", f1)\n"
   ]
  },
  {
   "cell_type": "markdown",
   "id": "ec50314e",
   "metadata": {},
   "source": [
    "The SVM model achieved perfect accuracy, precision, and F1-score, but overfitting can occur. To optimize the model, grid search or randomized search can be used to find the best combination of hyperparameters."
   ]
  }
 ],
 "metadata": {
  "kernelspec": {
   "display_name": "Python 3 (ipykernel)",
   "language": "python",
   "name": "python3"
  },
  "language_info": {
   "codemirror_mode": {
    "name": "ipython",
    "version": 3
   },
   "file_extension": ".py",
   "mimetype": "text/x-python",
   "name": "python",
   "nbconvert_exporter": "python",
   "pygments_lexer": "ipython3",
   "version": "3.9.13"
  }
 },
 "nbformat": 4,
 "nbformat_minor": 5
}
