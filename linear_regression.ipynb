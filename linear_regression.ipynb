{
 "cells": [
  {
   "cell_type": "code",
   "execution_count": 53,
   "id": "a0b2de51",
   "metadata": {},
   "outputs": [],
   "source": [
    "import pandas as pd\n",
    "from sklearn.model_selection import train_test_split\n",
    "\n",
    "# read the cleaned dataset\n",
    "url = 'https://raw.githubusercontent.com/jaichandm/personal/main/laptop_data_cleaned.csv'\n",
    "laptop_df = pd.read_csv(url)\n",
    "\n",
    "# Clean the 'Ram' column\n",
    "laptop_df['Ram'] = laptop_df['Ram'].str.extract('(\\d+)').astype(float)\n",
    "\n",
    "# Clean the 'Memory' column\n",
    "laptop_df['Memory'] = laptop_df['Memory'].str.extract('(\\d+)').astype(float)\n",
    "\n",
    "# Clean the 'Weight' column\n",
    "laptop_df['Weight'] = laptop_df['Weight'].str.replace('kg', '').astype(float)\n",
    "\n",
    "# select features for X and the target feature y\n",
    "X = laptop_df[['Inches','Cpu','Weight','Ram','Memory','Company']]\n",
    "Y = laptop_df['Price']\n",
    "\n",
    "# perform one-hot encoding on the categorical features\n",
    "one_hot_en = OneHotEncoder()\n",
    "X_one_hot_en = one_hot_en.fit_transform(X)\n",
    "\n",
    "# split the dataset into training and testing sets\n",
    "X_train, X_test, Y_train, Y_test = train_test_split(X_one_hot_en, Y, test_size=0.2, random_state=123)\n",
    "\n",
    "\n",
    "\n",
    "\n"
   ]
  },
  {
   "cell_type": "markdown",
   "id": "4824db6a",
   "metadata": {},
   "source": [
    "### Pick an initial set of features for X and the target feature y.  Explain why you made this choice.\n",
    "* I have chosen 'Inches','Cpu','Weight','Ram','Memory' & 'Company' as independent variables (features) for X and \"Price\" as the dependent variable (goal) for Y in the initial set of features. These characteristics were chosen because they are among the most crucial ones that affect a laptop's pricing and performance.\n",
    "* Cpu refers to the processor type and speed, which can affect the performance and, therefore, the price.\n",
    "* The brand(Company) of the laptop may also have an effect on the pricing because some brands are more expensive and are consequently regarded as premium. \n",
    "* Another crucial component that has an impact on the performance of the laptop is RAM (random access memory). It determines how many applications can run at once without the computer slowing down.\n",
    "* A laptop with greater memory can manage more data and complete activities that are more difficult. \n",
    "* Weight may also be a factor in determining the price since lighter laptops are typically more expensive.\n",
    "* Inches represents the size of the laptop screen, which can affect the price.\n",
    "* As a result, we can try to estimate the price of a laptop based on its characteristics by using these features."
   ]
  },
  {
   "cell_type": "code",
   "execution_count": 51,
   "id": "54912f6d",
   "metadata": {},
   "outputs": [
    {
     "name": "stdout",
     "output_type": "stream",
     "text": [
      "R-squared score: -1990864068472887335301677056.000\n",
      "Mean absolute error: ₹ 322788913210760896.00\n"
     ]
    }
   ],
   "source": [
    "from sklearn.linear_model import LinearRegression\n",
    "from sklearn.metrics import r2_score, mean_absolute_error\n",
    "\n",
    "# standardize the numerical features\n",
    "scaler = StandardScaler()\n",
    "X_train = scaler.fit_transform(X_train.toarray())\n",
    "X_test = scaler.transform(X_test.toarray())\n",
    "\n",
    "# create linear regression object\n",
    "linear_model = LinearRegression()\n",
    "\n",
    "# fit the model on the training data\n",
    "linear_model.fit(X_train, Y_train)\n",
    "\n",
    "# predict laptop prices on the test data\n",
    "y_pred = linear_model.predict(X_test)\n",
    "\n",
    "# compute R-squared score and mean absolute error\n",
    "r2_score_value = r2_score(Y_test, y_pred)\n",
    "mae_value = mean_absolute_error(Y_test, y_pred)\n",
    "\n",
    "print(f'R-squared score: {r2_score_value:.3f}')\n",
    "print(f'Mean absolute error: ₹ {mae_value:.2f}')"
   ]
  },
  {
   "cell_type": "markdown",
   "id": "419e35de",
   "metadata": {},
   "source": [
    "### Comments on results\n",
    "The results of the linear regression model are not acceptable, as the R-squared score is negative and the mean absolute error is extremely high, indicating that the model is not good at predicting the prices of the laptops. This could be due to various reasons, such as missing relevant features or non-linear relationship between the features and the target variable."
   ]
  }
 ],
 "metadata": {
  "kernelspec": {
   "display_name": "Python 3 (ipykernel)",
   "language": "python",
   "name": "python3"
  },
  "language_info": {
   "codemirror_mode": {
    "name": "ipython",
    "version": 3
   },
   "file_extension": ".py",
   "mimetype": "text/x-python",
   "name": "python",
   "nbconvert_exporter": "python",
   "pygments_lexer": "ipython3",
   "version": "3.9.13"
  }
 },
 "nbformat": 4,
 "nbformat_minor": 5
}
