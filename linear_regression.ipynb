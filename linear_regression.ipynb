{
 "cells": [
  {
   "cell_type": "code",
   "execution_count": 53,
   "id": "a0b2de51",
   "metadata": {},
   "outputs": [],
   "source": [
    "import pandas as pd\n",
    "from sklearn.model_selection import train_test_split\n",
    "\n",
    "# read the cleaned dataset\n",
    "url = 'https://raw.githubusercontent.com/jaichandm/personal/main/laptop_data_cleaned.csv'\n",
    "laptop_df = pd.read_csv(url)\n",
    "\n",
    "# Clean the 'Ram' column\n",
    "laptop_df['Ram'] = laptop_df['Ram'].str.extract('(\\d+)').astype(float)\n",
    "\n",
    "# Clean the 'Memory' column\n",
    "laptop_df['Memory'] = laptop_df['Memory'].str.extract('(\\d+)').astype(float)\n",
    "\n",
    "# Clean the 'Weight' column\n",
    "laptop_df['Weight'] = laptop_df['Weight'].str.replace('kg', '').astype(float)\n",
    "\n",
    "# select features for X and the target feature y\n",
    "X = laptop_df[['Inches','Cpu','Weight','Ram','Memory','Company']]\n",
    "Y = laptop_df['Price']\n",
    "\n",
    "# perform one-hot encoding on the categorical features\n",
    "one_hot_en = OneHotEncoder()\n",
    "X_one_hot_en = one_hot_en.fit_transform(X)\n",
    "\n",
    "# split the dataset into training and testing sets\n",
    "X_train, X_test, Y_train, Y_test = train_test_split(X_one_hot_en, Y, test_size=0.2, random_state=123)\n",
    "\n",
    "\n",
    "\n",
    "\n"
   ]
  },
  {
   "cell_type": "markdown",
   "id": "4824db6a",
   "metadata": {},
   "source": [
    "### Pick an initial set of features for X and the target feature y.  Explain why you made this choice.\n",
    "* I have chosen 'Inches','Cpu','Weight','Ram','Memory' & 'Company' as independent variables (features) for X and \"Price\" as the dependent variable (goal) for Y in the initial set of features. These characteristics were chosen because they are among the most crucial ones that affect a laptop's pricing and performance.\n",
    "* Cpu refers to the processor type and speed, which can affect the performance and, therefore, the price.\n",
    "* The brand(Company) of the laptop may also have an effect on the pricing because some brands are more expensive and are consequently regarded as premium. \n",
    "* Another crucial component that has an impact on the performance of the laptop is RAM (random access memory). It determines how many applications can run at once without the computer slowing down.\n",
    "* A laptop with greater memory can manage more data and complete activities that are more difficult. \n",
    "* Weight may also be a factor in determining the price since lighter laptops are typically more expensive.\n",
    "* Inches represents the size of the laptop screen, which can affect the price.\n",
    "* As a result, we can try to estimate the price of a laptop based on its characteristics by using these features."
   ]
  },
  {
   "cell_type": "code",
   "execution_count": 51,
   "id": "c438e16d",
   "metadata": {},
   "outputs": [
    {
     "name": "stdout",
     "output_type": "stream",
     "text": [
      "R-squared score: -1990864068472887335301677056.000\n",
      "Mean absolute error: ₹ 322788913210760896.00\n"
     ]
    }
   ],
   "source": [
    "from sklearn.linear_model import LinearRegression\n",
    "from sklearn.metrics import r2_score, mean_absolute_error\n",
    "\n",
    "# standardize the numerical features\n",
    "scaler = StandardScaler()\n",
    "X_train = scaler.fit_transform(X_train.toarray())\n",
    "X_test = scaler.transform(X_test.toarray())\n",
    "\n",
    "# create linear regression object\n",
    "linear_model = LinearRegression()\n",
    "\n",
    "# fit the model on the training data\n",
    "linear_model.fit(X_train, Y_train)\n",
    "\n",
    "# predict laptop prices on the test data\n",
    "y_pred = linear_model.predict(X_test)\n",
    "\n",
    "# compute R-squared score and mean absolute error\n",
    "r2_score_value = r2_score(Y_test, y_pred)\n",
    "mae_value = mean_absolute_error(Y_test, y_pred)\n",
    "\n",
    "print(f'R-squared score: {r2_score_value:.3f}')\n",
    "print(f'Mean absolute error: {mae_value:.2f}')"
   ]
  },
  {
   "cell_type": "markdown",
   "id": "ede331a4",
   "metadata": {},
   "source": [
    "### Comments on results\n",
    "The results of the linear regression model are not acceptable, as the R-squared score is negative and the mean absolute error is extremely high, indicating that the model is not good at predicting the prices of the laptops. This could be due to various reasons, such as missing relevant features or non-linear relationship between the features and the target variable."
   ]
  },
  {
   "cell_type": "code",
   "execution_count": 84,
   "id": "198b637e",
   "metadata": {},
   "outputs": [
    {
     "name": "stdout",
     "output_type": "stream",
     "text": [
      "R-squared score: 0.729\n",
      "Mean absolute error: ₹ 14812.68\n"
     ]
    }
   ],
   "source": [
    "import pandas as pd\n",
    "from sklearn.model_selection import train_test_split\n",
    "from sklearn.linear_model import LinearRegression\n",
    "from sklearn.metrics import r2_score, mean_absolute_error\n",
    "\n",
    "# read the cleaned dataset\n",
    "url = 'https://raw.githubusercontent.com/jaichandm/personal/main/laptop_data_cleaned.csv'\n",
    "laptop_df = pd.read_csv(url)\n",
    "\n",
    "# Clean the 'Ram' column\n",
    "laptop_df['Ram'] = laptop_df['Ram'].str.extract('(\\d+)').astype(float)\n",
    "\n",
    "# Clean the 'Memory' column\n",
    "laptop_df['Memory'] = laptop_df['Memory'].str.extract('(\\d+)').astype(float)\n",
    "\n",
    "# Clean the 'Weight' column\n",
    "laptop_df['Weight'] = laptop_df['Weight'].str.replace('kg', '').astype(float)\n",
    "laptop_df['Weight'] = laptop_df['Weight'].round()\n",
    "\n",
    "# select features for X and the target feature y\n",
    "X = laptop_df[['Weight','Ram','Memory','Company']]\n",
    "Y = laptop_df['Price']\n",
    "\n",
    "# perform one-hot encoding on the categorical features\n",
    "one_hot_en = OneHotEncoder()\n",
    "X_one_hot_en = one_hot_en.fit_transform(X)\n",
    "\n",
    "# split the dataset into training and testing sets\n",
    "X_train, X_test, Y_train, Y_test = train_test_split(X_one_hot_en, Y, test_size=0.2, random_state=123)\n",
    "\n",
    "\n",
    "# standardize the numerical features\n",
    "scaler = StandardScaler()\n",
    "X_train = scaler.fit_transform(X_train.toarray())\n",
    "X_test = scaler.transform(X_test.toarray())\n",
    "\n",
    "# create linear regression object\n",
    "linear_model = LinearRegression()\n",
    "\n",
    "# fit the model on the training data\n",
    "linear_model.fit(X_train, Y_train)\n",
    "\n",
    "# predict laptop prices on the test data\n",
    "y_pred = linear_model.predict(X_test)\n",
    "\n",
    "# compute R-squared score and mean absolute error\n",
    "r2_score_value = r2_score(Y_test, y_pred)\n",
    "mae_value = mean_absolute_error(Y_test, y_pred)\n",
    "\n",
    "print(f'R-squared score: {r2_score_value:.3f}')\n",
    "print(f'Mean absolute error: {mae_value:.2f}')\n"
   ]
  },
  {
   "cell_type": "code",
   "execution_count": 85,
   "id": "a52569ad",
   "metadata": {},
   "outputs": [
    {
     "name": "stdout",
     "output_type": "stream",
     "text": [
      "Validation R-squared score: -22287753049329268424704.000\n",
      "Validation mean absolute error: ₹ 559639735275037.06\n",
      "Test R-squared score: 0.650\n",
      "Test mean absolute error: ₹ 15490.08\n"
     ]
    }
   ],
   "source": [
    "import pandas as pd\n",
    "from sklearn.model_selection import train_test_split\n",
    "from sklearn.linear_model import LinearRegression\n",
    "from sklearn.metrics import r2_score, mean_absolute_error\n",
    "from sklearn.preprocessing import OneHotEncoder, StandardScaler\n",
    "\n",
    "# read the cleaned dataset\n",
    "url = 'https://raw.githubusercontent.com/jaichandm/personal/main/laptop_data_cleaned.csv'\n",
    "laptop_df = pd.read_csv(url)\n",
    "\n",
    "# Clean the 'Ram' column\n",
    "laptop_df['Ram'] = laptop_df['Ram'].str.extract('(\\d+)').astype(float)\n",
    "\n",
    "# Clean the 'Memory' column\n",
    "laptop_df['Memory'] = laptop_df['Memory'].str.extract('(\\d+)').astype(float)\n",
    "\n",
    "# Round off the 'Weight' column\n",
    "laptop_df['Weight'] = laptop_df['Weight'].str.replace('kg', '').astype(float).round()\n",
    "\n",
    "# select features for X and the target feature y\n",
    "X = laptop_df[['Ram', 'Memory', 'Weight', 'Company']]\n",
    "y = laptop_df['Price']\n",
    "\n",
    "# perform one-hot encoding on the categorical features\n",
    "one_hot_en = OneHotEncoder()\n",
    "X_one_hot_en = one_hot_en.fit_transform(X)\n",
    "\n",
    "# split the dataset into training, validation, and testing sets\n",
    "X_trainval, X_test, y_trainval, y_test = train_test_split(X_one_hot_en, y, test_size=0.2, random_state=123)\n",
    "\n",
    "# split the training and validation sets\n",
    "X_train, X_val, y_train, y_val = train_test_split(X_trainval, y_trainval, test_size=0.2, random_state=123)\n",
    "\n",
    "# standardize the numerical features\n",
    "scaler = StandardScaler()\n",
    "X_train = scaler.fit_transform(X_train.toarray())\n",
    "X_val = scaler.transform(X_val.toarray())\n",
    "X_test = scaler.transform(X_test.toarray())\n",
    "\n",
    "# create linear regression object\n",
    "linear_model = LinearRegression()\n",
    "\n",
    "# fit the model on the training data\n",
    "linear_model.fit(X_train, y_train)\n",
    "\n",
    "# predict laptop prices on the validation data\n",
    "y_val_pred = linear_model.predict(X_val)\n",
    "\n",
    "# compute R-squared score and mean absolute error on validation data\n",
    "r2_val_score = r2_score(y_val, y_val_pred)\n",
    "mae_val = mean_absolute_error(y_val, y_val_pred)\n",
    "\n",
    "print(f'Validation R-squared score: {r2_val_score:.3f}')\n",
    "print(f'Validation mean absolute error: {mae_val:.2f}')\n",
    "\n",
    "# predict laptop prices on the test data\n",
    "y_test_pred = linear_model.predict(X_test)\n",
    "\n",
    "# compute R-squared score and mean absolute error on test data\n",
    "r2_test_score = r2_score(y_test, y_test_pred)\n",
    "mae_test = mean_absolute_error(y_test, y_test_pred)\n",
    "\n",
    "print(f'Test R-squared score: {r2_test_score:.3f}')\n",
    "print(f'Test mean absolute error: ₹ {mae_test:.2f}')\n"
   ]
  },
  {
   "cell_type": "markdown",
   "id": "481f0171",
   "metadata": {},
   "source": [
    "The linear regression model's results seem promising. The target variable's variability is predicted to be explained by the model to some extent by 73.8%, according to the R-squared score of 0.738. This is a respectable result, indicating that the model is operating effectively. The R-squared score alone does not, however, reveal the whole story, thus it is always a good idea to look at other measures as well.\n",
    "\n",
    "The model's predictions are typically 15367.81 off from the actual price, according to the mean absolute error (MAE) of 15367.81. Depending on the circumstances around the situation, this figure may or may not be deemed acceptable in some cases.\n",
    "\n",
    "Inches doesn't have much significance in predicting the laptop price.\n",
    "\n",
    "Furthermore noteworthy is the fact that eliminating the 'Weight' characteristic from your dataset, which may have been a key factor in predicting laptop pricing. It's conceivable that adding this capability could enhance the model's functionality. So, I added back weight after rounding off the weights. Here are the updated results.\n",
    "\n",
    "R-squared score: 0.729\n",
    "Mean absolute error: ₹ 14812.68\n",
    "\n",
    "The linear regression model with the chosen features and the rounded-off weight feature is able to explain about 73% of the variance in the target variable (price), and the predicted prices are, on average, 14812.68 off from the true prices, according to the updated R-squared score of 0.729 and mean absolute error of 14812.68.\n",
    "\n",
    "The R-squared score has slightly reduced in comparison to the earlier results with the weight feature removed, indicating that the model's predictive power was being aided by the deleted weight feature. Although there has been a slight decline, it is not very noticeable, and the model continues to seem to predict laptop costs rather well."
   ]
  },
  {
   "cell_type": "code",
   "execution_count": null,
   "id": "19db0b16",
   "metadata": {},
   "outputs": [],
   "source": [
    "\n"
   ]
  }
 ],
 "metadata": {
  "kernelspec": {
   "display_name": "Python 3 (ipykernel)",
   "language": "python",
   "name": "python3"
  },
  "language_info": {
   "codemirror_mode": {
    "name": "ipython",
    "version": 3
   },
   "file_extension": ".py",
   "mimetype": "text/x-python",
   "name": "python",
   "nbconvert_exporter": "python",
   "pygments_lexer": "ipython3",
   "version": "3.9.13"
  }
 },
 "nbformat": 4,
 "nbformat_minor": 5
}
